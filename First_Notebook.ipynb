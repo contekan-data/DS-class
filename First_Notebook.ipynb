{
  "nbformat": 4,
  "nbformat_minor": 0,
  "metadata": {
    "colab": {
      "provenance": [],
      "authorship_tag": "ABX9TyPvuNaH/CQkcUbviV3wGJm6",
      "include_colab_link": true
    },
    "kernelspec": {
      "name": "python3",
      "display_name": "Python 3"
    },
    "language_info": {
      "name": "python"
    }
  },
  "cells": [
    {
      "cell_type": "markdown",
      "metadata": {
        "id": "view-in-github",
        "colab_type": "text"
      },
      "source": [
        "<a href=\"https://colab.research.google.com/github/contekan-data/DS-class/blob/main/First_Notebook.ipynb\" target=\"_parent\"><img src=\"https://colab.research.google.com/assets/colab-badge.svg\" alt=\"Open In Colab\"/></a>"
      ]
    },
    {
      "cell_type": "code",
      "execution_count": 1,
      "metadata": {
        "colab": {
          "base_uri": "https://localhost:8080/"
        },
        "id": "xVUyT-O0cYlb",
        "outputId": "52ef40e5-8a3a-4136-dc70-30d4a3c10390"
      },
      "outputs": [
        {
          "output_type": "stream",
          "name": "stdout",
          "text": [
            "halo dunia\n"
          ]
        }
      ],
      "source": [
        "print(\"halo dunia\")"
      ]
    },
    {
      "cell_type": "code",
      "source": [
        "5 + 5"
      ],
      "metadata": {
        "id": "l2y9px4ccgBJ",
        "outputId": "f7465d01-99bb-4641-85e7-b121ef5b588e",
        "colab": {
          "base_uri": "https://localhost:8080/"
        }
      },
      "execution_count": 2,
      "outputs": [
        {
          "output_type": "execute_result",
          "data": {
            "text/plain": [
              "10"
            ]
          },
          "metadata": {},
          "execution_count": 2
        }
      ]
    },
    {
      "cell_type": "code",
      "source": [],
      "metadata": {
        "id": "P5NuUCx4dgrR"
      },
      "execution_count": null,
      "outputs": []
    }
  ]
}